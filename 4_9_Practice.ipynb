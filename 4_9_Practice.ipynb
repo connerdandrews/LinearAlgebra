{
  "nbformat": 4,
  "nbformat_minor": 0,
  "metadata": {
    "colab": {
      "name": "4_9_Practice.ipynb",
      "provenance": [],
      "collapsed_sections": [],
      "authorship_tag": "ABX9TyMvUv63HKFI6DN7vCFm2O7G",
      "include_colab_link": true
    },
    "kernelspec": {
      "name": "python3",
      "display_name": "Python 3"
    }
  },
  "cells": [
    {
      "cell_type": "markdown",
      "metadata": {
        "id": "view-in-github",
        "colab_type": "text"
      },
      "source": [
        "<a href=\"https://colab.research.google.com/github/connerdandrews/LinearAlgebra/blob/main/4_9_Practice.ipynb\" target=\"_parent\"><img src=\"https://colab.research.google.com/assets/colab-badge.svg\" alt=\"Open In Colab\"/></a>"
      ]
    },
    {
      "cell_type": "code",
      "metadata": {
        "colab": {
          "base_uri": "https://localhost:8080/"
        },
        "id": "EvsQB2yXZBQ6",
        "outputId": "73560629-0776-42c5-b482-be2b32632d9f"
      },
      "source": [
        "import sympy as sp\r\n",
        "\r\n",
        "S = sp.Matrix([[0, 1, 1, 2, 3],[1, 0, 0, 0, 0], [0, -2, 0, 4, -3],[0, 4, 1, 0, 0],[0, 0, 1, 0, 3], [2, 0, 5, 0, 0]])\r\n",
        "print(S)\r\n",
        "print(S.rref())"
      ],
      "execution_count": 7,
      "outputs": [
        {
          "output_type": "stream",
          "text": [
            "Matrix([[0, 1, 1, 2, 3], [1, 0, 0, 0, 0], [0, -2, 0, 4, -3], [0, 4, 1, 0, 0], [0, 0, 1, 0, 3], [2, 0, 5, 0, 0]])\n",
            "(Matrix([\n",
            "[1, 0, 0, 0, 0],\n",
            "[0, 1, 0, 0, 0],\n",
            "[0, 0, 1, 0, 0],\n",
            "[0, 0, 0, 1, 0],\n",
            "[0, 0, 0, 0, 1],\n",
            "[0, 0, 0, 0, 0]]), (0, 1, 2, 3, 4))\n"
          ],
          "name": "stdout"
        }
      ]
    }
  ]
}