{
  "nbformat": 4,
  "nbformat_minor": 0,
  "metadata": {
    "colab": {
      "name": "PythonProject1.ipynb",
      "provenance": [],
      "authorship_tag": "ABX9TyMnsXF/z3XuBagerRbkKetJ",
      "include_colab_link": true
    },
    "kernelspec": {
      "name": "python3",
      "display_name": "Python 3"
    }
  },
  "cells": [
    {
      "cell_type": "markdown",
      "metadata": {
        "id": "view-in-github",
        "colab_type": "text"
      },
      "source": [
        "<a href=\"https://colab.research.google.com/github/connerdandrews/LinearAlgebra/blob/main/PythonProject1.ipynb\" target=\"_parent\"><img src=\"https://colab.research.google.com/assets/colab-badge.svg\" alt=\"Open In Colab\"/></a>"
      ]
    },
    {
      "cell_type": "markdown",
      "metadata": {
        "id": "vKH_Vm8NZ7Od"
      },
      "source": [
        "**Problem 1**"
      ]
    },
    {
      "cell_type": "code",
      "metadata": {
        "id": "Xj3IdynbX1I2"
      },
      "source": [
        "import numpy as np\r\n",
        "import sympy as sp"
      ],
      "execution_count": 15,
      "outputs": []
    },
    {
      "cell_type": "code",
      "metadata": {
        "colab": {
          "base_uri": "https://localhost:8080/"
        },
        "id": "c5kqH78HaDLx",
        "outputId": "0536f4e7-dc71-45b4-b80a-2bf057dcdf45"
      },
      "source": [
        "# This code returns the value of the 4th row and 2nd column of a matrix A.\r\n",
        "A=np.array([[1,2,3,4],[5,6,7,8],[9,10,11,12],[13,14,15,16]])\r\n",
        "print(A[3,1])"
      ],
      "execution_count": 17,
      "outputs": [
        {
          "output_type": "stream",
          "text": [
            "14\n"
          ],
          "name": "stdout"
        }
      ]
    },
    {
      "cell_type": "markdown",
      "metadata": {
        "id": "hcIrO3heaEOY"
      },
      "source": [
        "**Problem 2**"
      ]
    },
    {
      "cell_type": "code",
      "metadata": {
        "colab": {
          "base_uri": "https://localhost:8080/"
        },
        "id": "EohbDdGzaRv0",
        "outputId": "730bb8a9-0bac-4ed2-b24f-ad190e17bb3a"
      },
      "source": [
        "# This is the original code used to show how to make changes to a matrix. \r\n",
        "A=np.array([[1,2,3],[4,5,6],[7,8,9]])\r\n",
        "print(A)\r\n",
        "A[2]=[7,8,10]\r\n",
        "print(A)"
      ],
      "execution_count": 18,
      "outputs": [
        {
          "output_type": "stream",
          "text": [
            "[[1 2 3]\n",
            " [4 5 6]\n",
            " [7 8 9]]\n",
            "[[ 1  2  3]\n",
            " [ 4  5  6]\n",
            " [ 7  8 10]]\n"
          ],
          "name": "stdout"
        }
      ]
    },
    {
      "cell_type": "markdown",
      "metadata": {
        "id": "dxEbLZ3ua8P5"
      },
      "source": [
        "From the code above we see that the commands change the original matrix to a new matrix where the third row contains the values 7, 8, 10 instead of 7, 8, 9. The command changed the final value in the row. "
      ]
    },
    {
      "cell_type": "code",
      "metadata": {
        "colab": {
          "base_uri": "https://localhost:8080/"
        },
        "id": "C2t7MVpua7uG",
        "outputId": "ec588864-b359-4d19-a9c5-37d541ea218e"
      },
      "source": [
        "# This code adds new values to the second row of the matrix. \r\n",
        "A[1]=[1, 1, 1]\r\n",
        "print(A)"
      ],
      "execution_count": 19,
      "outputs": [
        {
          "output_type": "stream",
          "text": [
            "[[ 1  2  3]\n",
            " [ 1  1  1]\n",
            " [ 7  8 10]]\n"
          ],
          "name": "stdout"
        }
      ]
    },
    {
      "cell_type": "markdown",
      "metadata": {
        "id": "kVAfWZ75c2Df"
      },
      "source": [
        "**Problem 3**"
      ]
    },
    {
      "cell_type": "code",
      "metadata": {
        "colab": {
          "base_uri": "https://localhost:8080/"
        },
        "id": "U_c1nQhkdhQO",
        "outputId": "40d8af33-e518-4178-9117-76ec491ea06f"
      },
      "source": [
        "# This is the code given to us in the pdf. \r\n",
        "A=np.array([[1,2,3],[4,5,6],[7,8,9]])\r\n",
        "print(A)\r\n",
        "A[1]=A[1]+A[0]*(-A[1,0])\r\n",
        "A[2]=A[2]+A[0]*(-A[2,0])\r\n",
        "print(A)\r\n",
        "A[2]=A[2]+A[1]*(-A[2,1]/A[1,1])\r\n",
        "print(A)"
      ],
      "execution_count": 20,
      "outputs": [
        {
          "output_type": "stream",
          "text": [
            "[[1 2 3]\n",
            " [4 5 6]\n",
            " [7 8 9]]\n",
            "[[  1   2   3]\n",
            " [  0  -3  -6]\n",
            " [  0  -6 -12]]\n",
            "[[ 1  2  3]\n",
            " [ 0 -3 -6]\n",
            " [ 0  0  0]]\n"
          ],
          "name": "stdout"
        }
      ]
    },
    {
      "cell_type": "markdown",
      "metadata": {
        "id": "DbIoRgVJRRQN"
      },
      "source": [
        "The code above first fills a matrix with values 1-9. Then it does three row replacements. The first row replacement multiplies row 1 by -4 and adds it to row 2. The second row replacement multiplies row 1 by -7 and adds it to row 3. This creates zeros underneath the pivot in the first column. The third row replacement multiplies row 2 by -2 and adds it to row 3 creating zeros all across row 3. "
      ]
    },
    {
      "cell_type": "markdown",
      "metadata": {
        "id": "PB5aq9VOSq0S"
      },
      "source": [
        "**Problems 4, 5, and 6**"
      ]
    },
    {
      "cell_type": "code",
      "metadata": {
        "colab": {
          "base_uri": "https://localhost:8080/"
        },
        "id": "yr1GfSuESxDC",
        "outputId": "3fb4efb3-1c14-4716-effc-b03b48321873"
      },
      "source": [
        "# This code finds the values of x that solve Ax = b for Problem 4.\r\n",
        "A = np.array([[1,2,3],[4,5,6],[7,8,10]])\r\n",
        "b = np.array([[-1],[4],[-10]])\r\n",
        "x = np.linalg.solve(A,b)\r\n",
        "print(\"X values for the matrix equation:\",x, sep='\\n')\r\n",
        "\r\n",
        "# This code for Problem 5 checks the values of x we got in Problem 4 to see if they equal b. \r\n",
        "checkB = np.matmul(A, x)\r\n",
        "print(\"b values for the matrix equation:\",checkB, sep='\\n')\r\n",
        "\r\n",
        "# This code for Problem 6 uses the inverse of A to determine the value of x. \r\n",
        "invA = np.linalg.inv(A)\r\n",
        "print(\"Inverse A:\",invA, sep='\\n')\r\n",
        "checkX = np.matmul(invA, b)\r\n",
        "print(\"Checked X values for the matrix equation:\", checkX, sep='\\n')"
      ],
      "execution_count": 21,
      "outputs": [
        {
          "output_type": "stream",
          "text": [
            "X values for the matrix equation:\n",
            "[[-14.66666667]\n",
            " [ 35.33333333]\n",
            " [-19.        ]]\n",
            "b values for the matrix equation:\n",
            "[[ -1.]\n",
            " [  4.]\n",
            " [-10.]]\n",
            "Inverse A:\n",
            "[[-0.66666667 -1.33333333  1.        ]\n",
            " [-0.66666667  3.66666667 -2.        ]\n",
            " [ 1.         -2.          1.        ]]\n",
            "Checked X values for the matrix equation:\n",
            "[[-14.66666667]\n",
            " [ 35.33333333]\n",
            " [-19.        ]]\n"
          ],
          "name": "stdout"
        }
      ]
    },
    {
      "cell_type": "markdown",
      "metadata": {
        "id": "vDh5xIr1Xt67"
      },
      "source": [
        "Using the inverse of A we can see that the x values computed in problem 4 were the same as the ones we got when we used the inverse of A."
      ]
    },
    {
      "cell_type": "markdown",
      "metadata": {
        "id": "aiJrzhGnYbBU"
      },
      "source": [
        "**Problem 7**"
      ]
    },
    {
      "cell_type": "markdown",
      "metadata": {
        "id": "M_CZEpldBshW"
      },
      "source": [
        "$c_11^5 + c_21^4 + c_31^3 + c_41^2 + 1c_5 + c_6 = 1$\r\n",
        "\r\n",
        "$c_110^5 + c_210^4 + c_310^3 + c_410^2 + 10c_5 + c_6 = 5$\r\n",
        "\r\n",
        "$c_1*-10^5 + c_2*-10^4 + c_3*-10^3 + c_4*-10^2 + -10c_5 + c_6 = 6$\r\n",
        "\r\n",
        "$c_12^5 + c_22^4 + c_32^3 + c_42^2 + 2c_5 +c_6 = 100$\r\n",
        "\r\n",
        "$c_1*-2^5 + c_2*-2^4 + c_3*-2^3 + c_4*-2^2 + -2c_5 +c_6 = -30$\r\n",
        "\r\n",
        "$c_1*-1^5 + c_2*-1^4 + c_3*-1^3 + c_4*-1^2 + -1c_5 +c_6 = 60$"
      ]
    },
    {
      "cell_type": "code",
      "metadata": {
        "colab": {
          "base_uri": "https://localhost:8080/"
        },
        "id": "F-FHoq7dFXyk",
        "outputId": "22c97274-e8b8-42b9-bf99-e2f467382571"
      },
      "source": [
        "from decimal import Decimal\r\n",
        "x = np.array([[1,1,1,1,1,1],[100000,10000,1000,100,10,1],[-100000, 10000, -1000,100,-10,1],[32,16,8,4,2,1],[-32,16,-8,4,-2,1],[-1,1,-1,1,-1,1]])\r\n",
        "print(x)\r\n",
        "b = np.array([1,5,6,100,-30,60])\r\n",
        "print(b)\r\n",
        "A = np.linalg.solve(x,b)\r\n",
        "print(A)\r\n",
        "\r\n",
        "\r\n",
        "  "
      ],
      "execution_count": 38,
      "outputs": [
        {
          "output_type": "stream",
          "text": [
            "[[      1       1       1       1       1       1]\n",
            " [ 100000   10000    1000     100      10       1]\n",
            " [-100000   10000   -1000     100     -10       1]\n",
            " [     32      16       8       4       2       1]\n",
            " [    -32      16      -8       4      -2       1]\n",
            " [     -1       1      -1       1      -1       1]]\n",
            "[  1   5   6 100 -30  60]\n",
            "[-2.12179082e-01 -1.82554714e-02  2.17275621e+01  1.59127736e+00\n",
            " -5.10153830e+01  2.89269781e+01]\n"
          ],
          "name": "stdout"
        }
      ]
    },
    {
      "cell_type": "markdown",
      "metadata": {
        "id": "6PkJd6pmZ4VJ"
      },
      "source": [
        "**Problem 8**"
      ]
    },
    {
      "cell_type": "code",
      "metadata": {
        "colab": {
          "base_uri": "https://localhost:8080/"
        },
        "id": "F_aYILAvYgNu",
        "outputId": "f74d83e3-3b0e-41db-cdb9-cbc243b663e5"
      },
      "source": [
        "# This is all code given to us in the project pdf.\r\n",
        "from sympy.abc import a,b,c#allows us to use a,b,c in symbolic calculations\r\n",
        "import sympy as sp\r\n",
        "M=sp.Matrix([[1,2,3],[4,5,6],[7,8,9]])#note that Matrix is capitalized\r\n",
        "print(M)\r\n",
        "N=sp.Matrix([[a,0,0],[0,b,0],[0,0,c]])\r\n",
        "print(N)\r\n",
        "print(M*N)#matrix multiplication can be performed using * in SymPy\r\n",
        "\r\n",
        "M=sp.Matrix([[1,2,3],[4,5,6],[7,8,9]])\r\n",
        "print(M.rref())"
      ],
      "execution_count": null,
      "outputs": [
        {
          "output_type": "stream",
          "text": [
            "Matrix([[1, 2, 3], [4, 5, 6], [7, 8, 9]])\n",
            "Matrix([[a, 0, 0], [0, b, 0], [0, 0, c]])\n",
            "Matrix([[a, 2*b, 3*c], [4*a, 5*b, 6*c], [7*a, 8*b, 9*c]])\n",
            "(Matrix([\n",
            "[1, 0, -1],\n",
            "[0, 1,  2],\n",
            "[0, 0,  0]]), (0, 1))\n"
          ],
          "name": "stdout"
        }
      ]
    },
    {
      "cell_type": "code",
      "metadata": {
        "colab": {
          "base_uri": "https://localhost:8080/"
        },
        "id": "-cGqcd_pbQro",
        "outputId": "c3c0a949-138d-4e12-ce13-55e9d95d881c"
      },
      "source": [
        "# This code creates a matrix using the formula given to create a 6x6 matrix.Then it row reduces the matrix to RREF. \r\n",
        "M=sp.Matrix([[x+5, x-4, (x-2)**2, x**2, x, 1] for x in [1,2,3,4,5,6]])\r\n",
        "print(M)\r\n",
        "print(\"Row reduced Echelon Form:\",M.rref(), sep='\\n')"
      ],
      "execution_count": null,
      "outputs": [
        {
          "output_type": "stream",
          "text": [
            "Matrix([[6, -3, 1, 1, 1, 1], [7, -2, 0, 4, 2, 1], [8, -1, 1, 9, 3, 1], [9, 0, 4, 16, 4, 1], [10, 1, 9, 25, 5, 1], [11, 2, 16, 36, 6, 1]])\n",
            "Row reduced Echelon Form:\n",
            "(Matrix([\n",
            "[1, 0, 0, 4/3, 4/9,  1/9],\n",
            "[0, 1, 0, 8/3, 5/9, -1/9],\n",
            "[0, 0, 1,   1,   0,    0],\n",
            "[0, 0, 0,   0,   0,    0],\n",
            "[0, 0, 0,   0,   0,    0],\n",
            "[0, 0, 0,   0,   0,    0]]), (0, 1, 2))\n"
          ],
          "name": "stdout"
        }
      ]
    },
    {
      "cell_type": "markdown",
      "metadata": {
        "id": "TXP6nI4aceFt"
      },
      "source": [
        "**Problem 9**"
      ]
    },
    {
      "cell_type": "code",
      "metadata": {
        "colab": {
          "base_uri": "https://localhost:8080/"
        },
        "id": "ZTQUzqFtci0M",
        "outputId": "c9b271ad-ac82-4324-c421-e5a9baa0fb97"
      },
      "source": [
        "# This code creates a matrix, M, and then finds the determinant for the given matrix. \r\n",
        "M=sp.Matrix([[1, x, x**2, x**3, x**4, x**5] for x in [2,3,4,5,6,7]])\r\n",
        "print(M)\r\n",
        "determinant = M.det()\r\n",
        "print(\"Determinant of Matrix M:\", determinant, sep='\\n')"
      ],
      "execution_count": null,
      "outputs": [
        {
          "output_type": "stream",
          "text": [
            "Matrix([[1, 2, 4, 8, 16, 32], [1, 3, 9, 27, 81, 243], [1, 4, 16, 64, 256, 1024], [1, 5, 25, 125, 625, 3125], [1, 6, 36, 216, 1296, 7776], [1, 7, 49, 343, 2401, 16807]])\n",
            "Determinant of Matrix M:\n",
            "34560\n"
          ],
          "name": "stdout"
        }
      ]
    }
  ]
}