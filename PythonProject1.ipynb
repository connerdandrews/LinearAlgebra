{
  "nbformat": 4,
  "nbformat_minor": 0,
  "metadata": {
    "colab": {
      "name": "PythonProject1.ipynb",
      "provenance": [],
      "authorship_tag": "ABX9TyNEskKn3l31ZFcqy30mRmzp",
      "include_colab_link": true
    },
    "kernelspec": {
      "name": "python3",
      "display_name": "Python 3"
    }
  },
  "cells": [
    {
      "cell_type": "markdown",
      "metadata": {
        "id": "view-in-github",
        "colab_type": "text"
      },
      "source": [
        "<a href=\"https://colab.research.google.com/github/connerdandrews/LinearAlgebra/blob/main/PythonProject1.ipynb\" target=\"_parent\"><img src=\"https://colab.research.google.com/assets/colab-badge.svg\" alt=\"Open In Colab\"/></a>"
      ]
    },
    {
      "cell_type": "code",
      "metadata": {
        "id": "Xj3IdynbX1I2"
      },
      "source": [
        "import numpy as np\r\n",
        "import sympy as sp"
      ],
      "execution_count": null,
      "outputs": []
    }
  ]
}