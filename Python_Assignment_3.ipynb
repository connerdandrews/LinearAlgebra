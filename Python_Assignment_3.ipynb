{
  "nbformat": 4,
  "nbformat_minor": 0,
  "metadata": {
    "colab": {
      "name": "Python_Assignment_3.ipynb",
      "provenance": [],
      "authorship_tag": "ABX9TyMLXD/EqcLUd8EUwuRO+HJJ",
      "include_colab_link": true
    },
    "kernelspec": {
      "name": "python3",
      "display_name": "Python 3"
    },
    "language_info": {
      "name": "python"
    }
  },
  "cells": [
    {
      "cell_type": "markdown",
      "metadata": {
        "id": "view-in-github",
        "colab_type": "text"
      },
      "source": [
        "<a href=\"https://colab.research.google.com/github/connerdandrews/LinearAlgebra/blob/main/Python_Assignment_3.ipynb\" target=\"_parent\"><img src=\"https://colab.research.google.com/assets/colab-badge.svg\" alt=\"Open In Colab\"/></a>"
      ]
    },
    {
      "cell_type": "markdown",
      "metadata": {
        "id": "XbkrEgjCALez"
      },
      "source": [
        "**Problem 1**"
      ]
    },
    {
      "cell_type": "code",
      "metadata": {
        "colab": {
          "base_uri": "https://localhost:8080/"
        },
        "id": "RfoqsdH--MzZ",
        "outputId": "50263ab8-50b1-491b-af45-a08e2ec06353"
      },
      "source": [
        "import numpy as np\n",
        "import sympy as sp\n",
        "\n",
        "A=np.array([[-10,13,7],[2,1,-5],[-6,3,13],[2,1,-5]])\n",
        "Q,R=np.linalg.qr(A)\n",
        "print(Q)\n",
        "print(R)\n",
        "\n",
        "T = Q.transpose()\n",
        "B = T@Q\n",
        "B[abs(B)<1e-12]=0\n",
        "print(B)"
      ],
      "execution_count": 6,
      "outputs": [
        {
          "output_type": "stream",
          "text": [
            "[[-0.83333333 -0.5         0.23570226]\n",
            " [ 0.16666667 -0.5        -0.47140452]\n",
            " [-0.5         0.5        -0.70710678]\n",
            " [ 0.16666667 -0.5        -0.47140452]]\n",
            "[[ 12.         -12.         -14.        ]\n",
            " [  0.          -6.           8.        ]\n",
            " [  0.           0.          -2.82842712]]\n",
            "[[1. 0. 0.]\n",
            " [0. 1. 0.]\n",
            " [0. 0. 1.]]\n"
          ],
          "name": "stdout"
        }
      ]
    },
    {
      "cell_type": "markdown",
      "metadata": {
        "id": "Fq-i4267Bbo0"
      },
      "source": [
        "**Problem 2**"
      ]
    },
    {
      "cell_type": "code",
      "metadata": {
        "colab": {
          "base_uri": "https://localhost:8080/"
        },
        "id": "ztkrup_FBj1y",
        "outputId": "0258f403-f273-46a9-eaee-4d3dd0e270f9"
      },
      "source": [
        "C=Q@T\n",
        "C[abs(C)<1e-12]=0\n",
        "print(C)"
      ],
      "execution_count": 7,
      "outputs": [
        {
          "output_type": "stream",
          "text": [
            "[[1.  0.  0.  0. ]\n",
            " [0.  0.5 0.  0.5]\n",
            " [0.  0.  1.  0. ]\n",
            " [0.  0.5 0.  0.5]]\n"
          ],
          "name": "stdout"
        }
      ]
    },
    {
      "cell_type": "markdown",
      "metadata": {
        "id": "GhjNWxj-B6iC"
      },
      "source": [
        "**Problem 3**"
      ]
    },
    {
      "cell_type": "code",
      "metadata": {
        "colab": {
          "base_uri": "https://localhost:8080/"
        },
        "id": "waAoNOmuB93H",
        "outputId": "095b5283-36c5-415d-baa1-99525fec850b"
      },
      "source": [
        "A=np.array([[-10,13,7],[2,1,-5],[-6,3,13]])\n",
        "Q,R=np.linalg.qr(A)\n",
        "\n",
        "\n",
        "for i in range(0,100):\n",
        "  Q,R = np.linalg.qr(R@Q)\n",
        "\n",
        "print('Q value for A100:',Q)\n",
        "print('R Value for A100:',R)\n"
      ],
      "execution_count": 25,
      "outputs": [
        {
          "output_type": "stream",
          "text": [
            "Q value for A100: [[-1.00000000e+00  5.13850408e-11  2.51830433e-90]\n",
            " [-5.13850408e-11 -1.00000000e+00 -2.64357173e-79]\n",
            " [-1.10656998e-89 -2.64357173e-79  1.00000000e+00]]\n",
            "R Value for A100: [[-11.34375689   6.40729937  -8.98940335]\n",
            " [  0.           8.78821488 -15.23604746]\n",
            " [  0.           0.           1.44445799]]\n"
          ],
          "name": "stdout"
        }
      ]
    },
    {
      "cell_type": "markdown",
      "metadata": {
        "id": "rmNiLTPDEEU-"
      },
      "source": [
        "**Problem 4**"
      ]
    },
    {
      "cell_type": "markdown",
      "metadata": {
        "id": "1ezemUaiMgYI"
      },
      "source": [
        "Eigenvalues of A:\n",
        "\n",
        "-11.343756, 8.788214, 1.444457"
      ]
    },
    {
      "cell_type": "markdown",
      "metadata": {
        "id": "qnuxv0NNEJp7"
      },
      "source": [
        "**Problem 5**"
      ]
    },
    {
      "cell_type": "code",
      "metadata": {
        "colab": {
          "base_uri": "https://localhost:8080/"
        },
        "id": "B0uW6aDdEOjP",
        "outputId": "625a1189-acd6-4eba-a99a-2f4bb638572d"
      },
      "source": [
        "E, P = np.linalg.eig(A)\n",
        "print(\"Eigenvalues\",E)\n"
      ],
      "execution_count": 37,
      "outputs": [
        {
          "output_type": "stream",
          "text": [
            "Eigenvalues [-8.78821488 11.34375689  1.44445799]\n"
          ],
          "name": "stdout"
        }
      ]
    },
    {
      "cell_type": "markdown",
      "metadata": {
        "id": "MDMjo-YLE8XS"
      },
      "source": [
        "**Probelm 6**"
      ]
    },
    {
      "cell_type": "code",
      "metadata": {
        "colab": {
          "base_uri": "https://localhost:8080/"
        },
        "id": "fsVCaDQBE_WM",
        "outputId": "a81f0de1-f2f8-49b7-b005-92baa32b4206"
      },
      "source": [
        "H = np.array([[1,1,0],\n",
        "              [1,-1,0],\n",
        "              [0,1,1],\n",
        "              [0,-1,-1],\n",
        "              [1,0,1],\n",
        "              [1,0,-1]\n",
        "              ])\n",
        "\n",
        "H_normed = H / H.max(axis=0)\n",
        "\n",
        "print(\"Orthonormal H:\",H_normed)\n",
        "\n",
        "P = H@H.transpose()\n",
        "print()\n",
        "print(\"P\",P)\n",
        "\n",
        "Y = np.array([10,5,9,-1,4,3])\n",
        "Yhat = P@Y\n",
        "print()\n",
        "print(\"Projection of y onto H:\",Yhat)\n",
        "\n"
      ],
      "execution_count": 36,
      "outputs": [
        {
          "output_type": "stream",
          "text": [
            "Orthonormal H: [[ 1.  1.  0.]\n",
            " [ 1. -1.  0.]\n",
            " [ 0.  1.  1.]\n",
            " [ 0. -1. -1.]\n",
            " [ 1.  0.  1.]\n",
            " [ 1.  0. -1.]]\n",
            "\n",
            "P [[ 2  0  1 -1  1  1]\n",
            " [ 0  2 -1  1  1  1]\n",
            " [ 1 -1  2 -2  1 -1]\n",
            " [-1  1 -2  2 -1  1]\n",
            " [ 1  1  1 -1  2  0]\n",
            " [ 1  1 -1  1  0  2]]\n",
            "\n",
            "Projection of y onto H: [ 37   7  26 -26  33  11]\n"
          ],
          "name": "stdout"
        }
      ]
    }
  ]
}